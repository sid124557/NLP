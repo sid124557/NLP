{
 "cells": [
  {
   "cell_type": "code",
   "execution_count": 1,
   "metadata": {},
   "outputs": [],
   "source": [
    "import nltk\n",
    "\n"
   ]
  },
  {
   "cell_type": "code",
   "execution_count": 2,
   "metadata": {},
   "outputs": [],
   "source": [
    "paragraph =  \"\"\"I have three visions for India. In 3000 years of our history, people from all over \n",
    "               the world have come and invaded us, captured our lands, conquered our minds. \n",
    "               From Alexander onwards, the Greeks, the Turks, the Moguls, the Portuguese, the British,\n",
    "               the French, the Dutch, all of them came and looted us, took over what was ours. \n",
    "               Yet we have not done this to any other nation. We have not conquered anyone. \n",
    "               We have not grabbed their land, their culture, \n",
    "               their history and tried to enforce our way of life on them. \n",
    "               Why? Because we respect the freedom of others.That is why my \n",
    "               first vision is that of freedom. I believe that India got its first vision of \n",
    "               this in 1857, when we started the War of Independence. It is this freedom that\n",
    "               we must protect and nurture and build on. If we are not free, no one will respect us.\n",
    "               My second vision for India’s development. For fifty years we have been a developing nation.\n",
    "               It is time we see ourselves as a developed nation. We are among the top 5 nations of the world\n",
    "               in terms of GDP. We have a 10 percent growth rate in most areas. Our poverty levels are falling.\n",
    "               Our achievements are being globally recognised today. Yet we lack the self-confidence to\n",
    "               see ourselves as a developed nation, self-reliant and self-assured. Isn’t this incorrect?\n",
    "               I have a third vision. India must stand up to the world. Because I believe that unless India \n",
    "               stands up to the world, no one will respect us. Only strength respects strength. We must be \n",
    "               strong not only as a military power but also as an economic power. Both must go hand-in-hand. \n",
    "               My good fortune was to have worked with three great minds. Dr. Vikram Sarabhai of the Dept. of \n",
    "               space, Professor Satish Dhawan, who succeeded him and Dr. Brahm Prakash, father of nuclear material.\n",
    "               I was lucky to have worked with all three of them closely and consider this the great opportunity of my life. \n",
    "               I see four milestones in my career\"\"\""
   ]
  },
  {
   "cell_type": "code",
   "execution_count": 3,
   "metadata": {},
   "outputs": [],
   "source": [
    "# Cleaning the texts\n",
    "import re\n",
    "from nltk.corpus import stopwords\n",
    "from nltk.stem.porter import PorterStemmer\n",
    "from nltk.stem import WordNetLemmatizer\n"
   ]
  },
  {
   "cell_type": "code",
   "execution_count": 4,
   "metadata": {},
   "outputs": [],
   "source": [
    "ps = PorterStemmer()\n",
    "wordnet=WordNetLemmatizer()\n",
    "sentences = nltk.sent_tokenize(paragraph)\n",
    "corpus = []"
   ]
  },
  {
   "cell_type": "code",
   "execution_count": 5,
   "metadata": {},
   "outputs": [
    {
     "name": "stdout",
     "output_type": "stream",
     "text": [
      "I have three visions for India.\n",
      "In 3000 years of our history, people from all over \n",
      "               the world have come and invaded us, captured our lands, conquered our minds.\n",
      "From Alexander onwards, the Greeks, the Turks, the Moguls, the Portuguese, the British,\n",
      "               the French, the Dutch, all of them came and looted us, took over what was ours.\n",
      "Yet we have not done this to any other nation.\n",
      "We have not conquered anyone.\n",
      "We have not grabbed their land, their culture, \n",
      "               their history and tried to enforce our way of life on them.\n",
      "Why?\n",
      "Because we respect the freedom of others.That is why my \n",
      "               first vision is that of freedom.\n",
      "I believe that India got its first vision of \n",
      "               this in 1857, when we started the War of Independence.\n",
      "It is this freedom that\n",
      "               we must protect and nurture and build on.\n",
      "If we are not free, no one will respect us.\n",
      "My second vision for India’s development.\n",
      "For fifty years we have been a developing nation.\n",
      "It is time we see ourselves as a developed nation.\n",
      "We are among the top 5 nations of the world\n",
      "               in terms of GDP.\n",
      "We have a 10 percent growth rate in most areas.\n",
      "Our poverty levels are falling.\n",
      "Our achievements are being globally recognised today.\n",
      "Yet we lack the self-confidence to\n",
      "               see ourselves as a developed nation, self-reliant and self-assured.\n",
      "Isn’t this incorrect?\n",
      "I have a third vision.\n",
      "India must stand up to the world.\n",
      "Because I believe that unless India \n",
      "               stands up to the world, no one will respect us.\n",
      "Only strength respects strength.\n",
      "We must be \n",
      "               strong not only as a military power but also as an economic power.\n",
      "Both must go hand-in-hand.\n",
      "My good fortune was to have worked with three great minds.\n",
      "Dr. Vikram Sarabhai of the Dept.\n",
      "of \n",
      "               space, Professor Satish Dhawan, who succeeded him and Dr. Brahm Prakash, father of nuclear material.\n",
      "I was lucky to have worked with all three of them closely and consider this the great opportunity of my life.\n",
      "I see four milestones in my career\n"
     ]
    }
   ],
   "source": [
    "for i in sentences:\n",
    "    print(i)"
   ]
  },
  {
   "cell_type": "code",
   "execution_count": 6,
   "metadata": {},
   "outputs": [],
   "source": [
    "for i in range(len(sentences)):\n",
    "    review = re.sub('[^a-zA-Z]', ' ', sentences[i])\n",
    "    review = review.lower()\n",
    "    review = review.split()\n",
    "    review = [wordnet.lemmatize(word) for word in review if not word in set(stopwords.words('english'))]\n",
    "    review = ' '.join(review)\n",
    "    corpus.append(review)"
   ]
  },
  {
   "cell_type": "code",
   "execution_count": 7,
   "metadata": {},
   "outputs": [
    {
     "name": "stdout",
     "output_type": "stream",
     "text": [
      "['three vision india', 'year history people world come invaded u captured land conquered mind', 'alexander onwards greek turk mogul portuguese british french dutch came looted u took', 'yet done nation', 'conquered anyone', 'grabbed land culture history tried enforce way life', '', 'respect freedom others first vision freedom', 'believe india got first vision started war independence', 'freedom must protect nurture build', 'free one respect u', 'second vision india development', 'fifty year developing nation', 'time see developed nation', 'among top nation world term gdp', 'percent growth rate area', 'poverty level falling', 'achievement globally recognised today', 'yet lack self confidence see developed nation self reliant self assured', 'incorrect', 'third vision', 'india must stand world', 'believe unless india stand world one respect u', 'strength respect strength', 'must strong military power also economic power', 'must go hand hand', 'good fortune worked three great mind', 'dr vikram sarabhai dept', 'space professor satish dhawan succeeded dr brahm prakash father nuclear material', 'lucky worked three closely consider great opportunity life', 'see four milestone career']\n"
     ]
    }
   ],
   "source": [
    "print(corpus)"
   ]
  },
  {
   "cell_type": "code",
   "execution_count": 8,
   "metadata": {},
   "outputs": [],
   "source": [
    "# Creating the Bag of Words model\n",
    "from sklearn.feature_extraction.text import CountVectorizer\n",
    "cv = CountVectorizer(max_features = 1500)\n",
    "X = cv.fit_transform(corpus).toarray()\n"
   ]
  },
  {
   "cell_type": "code",
   "execution_count": 14,
   "metadata": {},
   "outputs": [
    {
     "name": "stdout",
     "output_type": "stream",
     "text": [
      "{'three': 98, 'vision': 107, 'india': 52, 'year': 112, 'history': 49, 'people': 73, 'world': 111, 'come': 15, 'invaded': 53, 'captured': 12, 'land': 55, 'conquered': 17, 'mind': 63, 'alexander': 1, 'onwards': 70, 'greek': 46, 'turk': 104, 'mogul': 64, 'portuguese': 75, 'british': 9, 'french': 38, 'dutch': 27, 'came': 11, 'looted': 58, 'took': 101, 'yet': 113, 'done': 25, 'nation': 66, 'anyone': 4, 'grabbed': 44, 'culture': 19, 'tried': 103, 'enforce': 29, 'way': 109, 'life': 57, 'respect': 84, 'freedom': 37, 'others': 72, 'first': 33, 'believe': 7, 'got': 43, 'started': 92, 'war': 108, 'independence': 51, 'must': 65, 'protect': 80, 'nurture': 68, 'build': 10, 'free': 36, 'one': 69, 'second': 87, 'development': 23, 'fifty': 32, 'developing': 22, 'time': 99, 'see': 88, 'developed': 21, 'among': 3, 'top': 102, 'term': 96, 'gdp': 39, 'percent': 74, 'growth': 47, 'rate': 81, 'area': 5, 'poverty': 76, 'level': 56, 'falling': 30, 'achievement': 0, 'globally': 40, 'recognised': 82, 'today': 100, 'lack': 54, 'self': 89, 'confidence': 16, 'reliant': 83, 'assured': 6, 'incorrect': 50, 'third': 97, 'stand': 91, 'unless': 105, 'strength': 93, 'strong': 94, 'military': 62, 'power': 77, 'also': 2, 'economic': 28, 'go': 41, 'hand': 48, 'good': 42, 'fortune': 34, 'worked': 110, 'great': 45, 'dr': 26, 'vikram': 106, 'sarabhai': 85, 'dept': 20, 'space': 90, 'professor': 79, 'satish': 86, 'dhawan': 24, 'succeeded': 95, 'brahm': 8, 'prakash': 78, 'father': 31, 'nuclear': 67, 'material': 60, 'lucky': 59, 'closely': 14, 'consider': 18, 'opportunity': 71, 'four': 35, 'milestone': 61, 'career': 13}\n"
     ]
    }
   ],
   "source": [
    "print(cv.vocabulary_)"
   ]
  },
  {
   "cell_type": "code",
   "execution_count": null,
   "metadata": {},
   "outputs": [],
   "source": []
  },
  {
   "cell_type": "code",
   "execution_count": null,
   "metadata": {},
   "outputs": [],
   "source": []
  },
  {
   "cell_type": "code",
   "execution_count": null,
   "metadata": {},
   "outputs": [],
   "source": []
  },
  {
   "cell_type": "code",
   "execution_count": null,
   "metadata": {},
   "outputs": [],
   "source": []
  }
 ],
 "metadata": {
  "kernelspec": {
   "display_name": "Python 3",
   "language": "python",
   "name": "python3"
  },
  "language_info": {
   "codemirror_mode": {
    "name": "ipython",
    "version": 3
   },
   "file_extension": ".py",
   "mimetype": "text/x-python",
   "name": "python",
   "nbconvert_exporter": "python",
   "pygments_lexer": "ipython3",
   "version": "3.7.9"
  }
 },
 "nbformat": 4,
 "nbformat_minor": 4
}
