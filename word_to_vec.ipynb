{
 "cells": [
  {
   "cell_type": "code",
   "execution_count": 5,
   "metadata": {},
   "outputs": [
    {
     "name": "stdout",
     "output_type": "stream",
     "text": [
      "Collecting gensim\n",
      "  Using cached gensim-3.8.3-cp37-cp37m-manylinux1_x86_64.whl (24.2 MB)\n",
      "Requirement already satisfied: scipy>=0.18.1 in /home/siddharth/anaconda3/envs/tf_21/lib/python3.7/site-packages (from gensim) (1.5.2)\n",
      "Requirement already satisfied: six>=1.5.0 in /home/siddharth/anaconda3/envs/tf_21/lib/python3.7/site-packages (from gensim) (1.15.0)\n",
      "Requirement already satisfied: numpy>=1.11.3 in /home/siddharth/anaconda3/envs/tf_21/lib/python3.7/site-packages (from gensim) (1.19.2)\n",
      "Collecting smart-open>=1.8.1\n",
      "  Downloading smart_open-2.2.0.tar.gz (113 kB)\n",
      "\u001b[K     |████████████████████████████████| 113 kB 136 kB/s eta 0:00:01\n",
      "\u001b[?25hRequirement already satisfied: requests in /home/siddharth/anaconda3/envs/tf_21/lib/python3.7/site-packages (from smart-open>=1.8.1->gensim) (2.24.0)\n",
      "Requirement already satisfied: chardet<4,>=3.0.2 in /home/siddharth/anaconda3/envs/tf_21/lib/python3.7/site-packages (from requests->smart-open>=1.8.1->gensim) (3.0.4)\n",
      "Requirement already satisfied: certifi>=2017.4.17 in /home/siddharth/anaconda3/envs/tf_21/lib/python3.7/site-packages (from requests->smart-open>=1.8.1->gensim) (2020.6.20)\n",
      "Requirement already satisfied: urllib3!=1.25.0,!=1.25.1,<1.26,>=1.21.1 in /home/siddharth/anaconda3/envs/tf_21/lib/python3.7/site-packages (from requests->smart-open>=1.8.1->gensim) (1.25.10)\n",
      "Requirement already satisfied: idna<3,>=2.5 in /home/siddharth/anaconda3/envs/tf_21/lib/python3.7/site-packages (from requests->smart-open>=1.8.1->gensim) (2.10)\n",
      "Building wheels for collected packages: smart-open\n",
      "  Building wheel for smart-open (setup.py) ... \u001b[?25ldone\n",
      "\u001b[?25h  Created wheel for smart-open: filename=smart_open-2.2.0-py3-none-any.whl size=116511 sha256=9952ce7ceccb09dddfe9d12a3e8463dae5f400bcf5da5928b7e470bddfda9734\n",
      "  Stored in directory: /home/siddharth/.cache/pip/wheels/4e/72/e3/c063e4bc1b764141ed22539c0482d1a4d62343e11a58c5bf88\n",
      "Successfully built smart-open\n",
      "Installing collected packages: smart-open, gensim\n",
      "Successfully installed gensim-3.8.3 smart-open-2.2.0\n"
     ]
    }
   ],
   "source": [
    "!pip install gensim\n",
    "\n",
    "\n",
    "\n"
   ]
  },
  {
   "cell_type": "code",
   "execution_count": 17,
   "metadata": {},
   "outputs": [],
   "source": [
    "import nltk\n",
    "\n",
    "from gensim.models import Word2Vec\n",
    "from nltk.corpus import stopwords\n",
    "\n",
    "import re"
   ]
  },
  {
   "cell_type": "code",
   "execution_count": 18,
   "metadata": {},
   "outputs": [],
   "source": [
    "paragraph = \"\"\"I have three visions for India. In 3000 years of our history, people from all over \n",
    "               the world have come and invaded us, captured our lands, conquered our minds. \n",
    "               From Alexander onwards, the Greeks, the Turks, the Moguls, the Portuguese, the British,\n",
    "               the French, the Dutch, all of them came and looted us, took over what was ours. \n",
    "               Yet we have not done this to any other nation. We have not conquered anyone. \n",
    "               We have not grabbed their land, their culture, \n",
    "               their history and tried to enforce our way of life on them. \n",
    "               Why? Because we respect the freedom of others.That is why my \n",
    "               first vision is that of freedom. I believe that India got its first vision of \n",
    "               this in 1857, when we started the War of Independence. It is this freedom that\n",
    "               we must protect and nurture and build on. If we are not free, no one will respect us.\n",
    "               My second vision for India’s development. For fifty years we have been a developing nation.\n",
    "               It is time we see ourselves as a developed nation. We are among the top 5 nations of the world\n",
    "               in terms of GDP. We have a 10 percent growth rate in most areas. Our poverty levels are falling.\n",
    "               Our achievements are being globally recognised today. Yet we lack the self-confidence to\n",
    "               see ourselves as a developed nation, self-reliant and self-assured. Isn’t this incorrect?\n",
    "               I have a third vision. India must stand up to the world. Because I believe that unless India \n",
    "               stands up to the world, no one will respect us. Only strength respects strength. We must be \n",
    "               strong not only as a military power but also as an economic power. Both must go hand-in-hand. \n",
    "               My good fortune was to have worked with three great minds. Dr. Vikram Sarabhai of the Dept. of \n",
    "               space, Professor Satish Dhawan, who succeeded him and Dr. Brahm Prakash, father of nuclear material.\n",
    "               I was lucky to have worked with all three of them closely and consider this the great opportunity of my life. \n",
    "               I see four milestones in my career\"\"\"\n",
    "\n"
   ]
  },
  {
   "cell_type": "code",
   "execution_count": 19,
   "metadata": {},
   "outputs": [],
   "source": [
    "\n",
    "# Preprocessing the data\n",
    "text = re.sub(r'\\[[0-9]*\\]',' ',paragraph)\n",
    "text = re.sub(r'\\s+',' ',text)\n",
    "text = text.lower()\n",
    "text = re.sub(r'\\d',' ',text)\n",
    "text = re.sub(r'\\s+',' ',text)"
   ]
  },
  {
   "cell_type": "code",
   "execution_count": 20,
   "metadata": {},
   "outputs": [],
   "source": [
    "\n",
    "# Preparing the dataset\n",
    "sentences = nltk.sent_tokenize(text)\n",
    "\n",
    "sentences = [nltk.word_tokenize(sentence) for sentence in sentences]\n",
    "\n",
    "for i in range(len(sentences)):\n",
    "    sentences[i] = [word for word in sentences[i] if word not in stopwords.words('english')]\n",
    "    \n",
    "    "
   ]
  },
  {
   "cell_type": "code",
   "execution_count": null,
   "metadata": {},
   "outputs": [],
   "source": []
  },
  {
   "cell_type": "code",
   "execution_count": 21,
   "metadata": {},
   "outputs": [],
   "source": [
    "\n",
    "# Training the Word2Vec model\n",
    "model = Word2Vec(sentences, min_count=1)\n",
    "\n",
    "\n",
    "\n",
    "\n"
   ]
  },
  {
   "cell_type": "code",
   "execution_count": 27,
   "metadata": {},
   "outputs": [
    {
     "name": "stdout",
     "output_type": "stream",
     "text": [
      "{'three': <gensim.models.keyedvectors.Vocab object at 0x7fcef8796c90>, 'visions': <gensim.models.keyedvectors.Vocab object at 0x7fcef8796e10>, 'india': <gensim.models.keyedvectors.Vocab object at 0x7fcef8796d90>, '.': <gensim.models.keyedvectors.Vocab object at 0x7fcef8796c10>, 'years': <gensim.models.keyedvectors.Vocab object at 0x7fcefb05b450>, 'history': <gensim.models.keyedvectors.Vocab object at 0x7fcef87a4a10>, ',': <gensim.models.keyedvectors.Vocab object at 0x7fcef87a4d90>, 'people': <gensim.models.keyedvectors.Vocab object at 0x7fcef87a4710>, 'world': <gensim.models.keyedvectors.Vocab object at 0x7fcef8796cd0>, 'come': <gensim.models.keyedvectors.Vocab object at 0x7fcef87a4610>, 'invaded': <gensim.models.keyedvectors.Vocab object at 0x7fcef87a4c50>, 'us': <gensim.models.keyedvectors.Vocab object at 0x7fcef87a4a50>, 'captured': <gensim.models.keyedvectors.Vocab object at 0x7fcef87a4d10>, 'lands': <gensim.models.keyedvectors.Vocab object at 0x7fcef87a4410>, 'conquered': <gensim.models.keyedvectors.Vocab object at 0x7fcef87a43d0>, 'minds': <gensim.models.keyedvectors.Vocab object at 0x7fcef87a4b10>, 'alexander': <gensim.models.keyedvectors.Vocab object at 0x7fcef87a4550>, 'onwards': <gensim.models.keyedvectors.Vocab object at 0x7fcef87a4250>, 'greeks': <gensim.models.keyedvectors.Vocab object at 0x7fcef87a4750>, 'turks': <gensim.models.keyedvectors.Vocab object at 0x7fcef87a42d0>, 'moguls': <gensim.models.keyedvectors.Vocab object at 0x7fcef87a4110>, 'portuguese': <gensim.models.keyedvectors.Vocab object at 0x7fcef87a4150>, 'british': <gensim.models.keyedvectors.Vocab object at 0x7fcef87a4190>, 'french': <gensim.models.keyedvectors.Vocab object at 0x7fcef87a4050>, 'dutch': <gensim.models.keyedvectors.Vocab object at 0x7fcef87a4450>, 'came': <gensim.models.keyedvectors.Vocab object at 0x7fcef87a44d0>, 'looted': <gensim.models.keyedvectors.Vocab object at 0x7fcef87a47d0>, 'took': <gensim.models.keyedvectors.Vocab object at 0x7fcef87a4850>, 'yet': <gensim.models.keyedvectors.Vocab object at 0x7fcef87a4990>, 'done': <gensim.models.keyedvectors.Vocab object at 0x7fcef87a48d0>, 'nation': <gensim.models.keyedvectors.Vocab object at 0x7fcef87a4890>, 'anyone': <gensim.models.keyedvectors.Vocab object at 0x7fcef87a4e10>, 'grabbed': <gensim.models.keyedvectors.Vocab object at 0x7fcef87a4d50>, 'land': <gensim.models.keyedvectors.Vocab object at 0x7fcef87a4c10>, 'culture': <gensim.models.keyedvectors.Vocab object at 0x7fcef87a4f90>, 'tried': <gensim.models.keyedvectors.Vocab object at 0x7fcef87a0e10>, 'enforce': <gensim.models.keyedvectors.Vocab object at 0x7fcef87a0e50>, 'way': <gensim.models.keyedvectors.Vocab object at 0x7fcef87a0450>, 'life': <gensim.models.keyedvectors.Vocab object at 0x7fcef87a0810>, '?': <gensim.models.keyedvectors.Vocab object at 0x7fcef87a0910>, 'respect': <gensim.models.keyedvectors.Vocab object at 0x7fcef87a0b10>, 'freedom': <gensim.models.keyedvectors.Vocab object at 0x7fcef87a0a10>, 'others.that': <gensim.models.keyedvectors.Vocab object at 0x7fcef87a0650>, 'first': <gensim.models.keyedvectors.Vocab object at 0x7fcef87a0d90>, 'vision': <gensim.models.keyedvectors.Vocab object at 0x7fcef87a0e90>, 'believe': <gensim.models.keyedvectors.Vocab object at 0x7fcef87a0250>, 'got': <gensim.models.keyedvectors.Vocab object at 0x7fcef87a0c90>, 'started': <gensim.models.keyedvectors.Vocab object at 0x7fcef87a0d50>, 'war': <gensim.models.keyedvectors.Vocab object at 0x7fcef87a0a90>, 'independence': <gensim.models.keyedvectors.Vocab object at 0x7fcef87a0bd0>, 'must': <gensim.models.keyedvectors.Vocab object at 0x7fcef87a0690>, 'protect': <gensim.models.keyedvectors.Vocab object at 0x7fcef87a05d0>, 'nurture': <gensim.models.keyedvectors.Vocab object at 0x7fcef87a0890>, 'build': <gensim.models.keyedvectors.Vocab object at 0x7fcef87a0310>, 'free': <gensim.models.keyedvectors.Vocab object at 0x7fcef87a03d0>, 'one': <gensim.models.keyedvectors.Vocab object at 0x7fcef87a0490>, 'second': <gensim.models.keyedvectors.Vocab object at 0x7fcef87a0550>, '’': <gensim.models.keyedvectors.Vocab object at 0x7fcef87a0710>, 'development': <gensim.models.keyedvectors.Vocab object at 0x7fcef87a0110>, 'fifty': <gensim.models.keyedvectors.Vocab object at 0x7fcef87a0750>, 'developing': <gensim.models.keyedvectors.Vocab object at 0x7fcef87a0190>, 'time': <gensim.models.keyedvectors.Vocab object at 0x7fcef87a0210>, 'see': <gensim.models.keyedvectors.Vocab object at 0x7fcef87a04d0>, 'developed': <gensim.models.keyedvectors.Vocab object at 0x7fcef87a0410>, 'among': <gensim.models.keyedvectors.Vocab object at 0x7fcef87a0950>, 'top': <gensim.models.keyedvectors.Vocab object at 0x7fcef87a09d0>, 'nations': <gensim.models.keyedvectors.Vocab object at 0x7fcef87a0150>, 'terms': <gensim.models.keyedvectors.Vocab object at 0x7fcef87a0050>, 'gdp': <gensim.models.keyedvectors.Vocab object at 0x7fcef87a0f50>, 'percent': <gensim.models.keyedvectors.Vocab object at 0x7fcef879c090>, 'growth': <gensim.models.keyedvectors.Vocab object at 0x7fcef879c050>, 'rate': <gensim.models.keyedvectors.Vocab object at 0x7fcef879c0d0>, 'areas': <gensim.models.keyedvectors.Vocab object at 0x7fcef879c2d0>, 'poverty': <gensim.models.keyedvectors.Vocab object at 0x7fcef879c110>, 'levels': <gensim.models.keyedvectors.Vocab object at 0x7fcef879ce50>, 'falling': <gensim.models.keyedvectors.Vocab object at 0x7fcef879ca10>, 'achievements': <gensim.models.keyedvectors.Vocab object at 0x7fcef879cc10>, 'globally': <gensim.models.keyedvectors.Vocab object at 0x7fcef879c650>, 'recognised': <gensim.models.keyedvectors.Vocab object at 0x7fcef879ce90>, 'today': <gensim.models.keyedvectors.Vocab object at 0x7fcef879c850>, 'lack': <gensim.models.keyedvectors.Vocab object at 0x7fcef879cd50>, 'self-confidence': <gensim.models.keyedvectors.Vocab object at 0x7fcef879c1d0>, 'self-reliant': <gensim.models.keyedvectors.Vocab object at 0x7fcef879cb90>, 'self-assured': <gensim.models.keyedvectors.Vocab object at 0x7fcef879c810>, 'incorrect': <gensim.models.keyedvectors.Vocab object at 0x7fcef879c350>, 'third': <gensim.models.keyedvectors.Vocab object at 0x7fcef879cd90>, 'stand': <gensim.models.keyedvectors.Vocab object at 0x7fcef879c5d0>, 'unless': <gensim.models.keyedvectors.Vocab object at 0x7fcef879cb10>, 'stands': <gensim.models.keyedvectors.Vocab object at 0x7fcef879c310>, 'strength': <gensim.models.keyedvectors.Vocab object at 0x7fcef879c3d0>, 'respects': <gensim.models.keyedvectors.Vocab object at 0x7fcef879cc90>, 'strong': <gensim.models.keyedvectors.Vocab object at 0x7fcef879c250>, 'military': <gensim.models.keyedvectors.Vocab object at 0x7fcef879c550>, 'power': <gensim.models.keyedvectors.Vocab object at 0x7fcef879c6d0>, 'also': <gensim.models.keyedvectors.Vocab object at 0x7fcef879c590>, 'economic': <gensim.models.keyedvectors.Vocab object at 0x7fcef879c490>, 'go': <gensim.models.keyedvectors.Vocab object at 0x7fcef879c190>, 'hand-in-hand': <gensim.models.keyedvectors.Vocab object at 0x7fcef879c410>, 'good': <gensim.models.keyedvectors.Vocab object at 0x7fcef879c750>, 'fortune': <gensim.models.keyedvectors.Vocab object at 0x7fcef879ca90>, 'worked': <gensim.models.keyedvectors.Vocab object at 0x7fcef879c890>, 'great': <gensim.models.keyedvectors.Vocab object at 0x7fcef879c290>, 'dr.': <gensim.models.keyedvectors.Vocab object at 0x7fcef879c610>, 'vikram': <gensim.models.keyedvectors.Vocab object at 0x7fcef879c990>, 'sarabhai': <gensim.models.keyedvectors.Vocab object at 0x7fcef879c950>, 'dept': <gensim.models.keyedvectors.Vocab object at 0x7fcef879c8d0>, 'space': <gensim.models.keyedvectors.Vocab object at 0x7fcef879c710>, 'professor': <gensim.models.keyedvectors.Vocab object at 0x7fcef879cdd0>, 'satish': <gensim.models.keyedvectors.Vocab object at 0x7fcef879cf90>, 'dhawan': <gensim.models.keyedvectors.Vocab object at 0x7fcef879cd10>, 'succeeded': <gensim.models.keyedvectors.Vocab object at 0x7fcef879cfd0>, 'brahm': <gensim.models.keyedvectors.Vocab object at 0x7fcef879cf10>, 'prakash': <gensim.models.keyedvectors.Vocab object at 0x7fcef90316d0>, 'father': <gensim.models.keyedvectors.Vocab object at 0x7fcef9031890>, 'nuclear': <gensim.models.keyedvectors.Vocab object at 0x7fcef9031390>, 'material': <gensim.models.keyedvectors.Vocab object at 0x7fcef9031c90>, 'lucky': <gensim.models.keyedvectors.Vocab object at 0x7fcef90311d0>, 'closely': <gensim.models.keyedvectors.Vocab object at 0x7fcef902ff90>, 'consider': <gensim.models.keyedvectors.Vocab object at 0x7fcef902fd50>, 'opportunity': <gensim.models.keyedvectors.Vocab object at 0x7fcef902fe90>, 'four': <gensim.models.keyedvectors.Vocab object at 0x7fcef902f450>, 'milestones': <gensim.models.keyedvectors.Vocab object at 0x7fcef902f510>, 'career': <gensim.models.keyedvectors.Vocab object at 0x7fcef902f550>}\n"
     ]
    }
   ],
   "source": [
    "words = model.wv.vocab\n",
    "print(words)\n"
   ]
  },
  {
   "cell_type": "code",
   "execution_count": 23,
   "metadata": {},
   "outputs": [
    {
     "name": "stdout",
     "output_type": "stream",
     "text": [
      "[ 4.4847507e-04  7.5267802e-04 -3.4762677e-03 -2.5984291e-03\n",
      " -9.5566787e-04 -2.0156913e-03  4.8748702e-03  4.1549513e-03\n",
      "  2.2284121e-03  9.9489931e-04 -5.5529154e-04  1.0429283e-03\n",
      "  4.6406465e-04  8.1821089e-04  4.8229732e-03 -2.2511233e-03\n",
      "  5.9839967e-04  1.1256846e-03 -1.7507757e-03  4.1681854e-03\n",
      " -2.6287849e-03 -4.0097786e-03  2.3462665e-03  1.2852892e-04\n",
      "  2.1100389e-03  9.9987455e-04 -4.0876418e-03 -4.6385797e-03\n",
      " -3.3433558e-03  2.7428500e-03 -7.8646575e-05  4.6760710e-03\n",
      "  2.1592674e-03 -1.3203893e-03  4.0076929e-04 -4.9670474e-03\n",
      " -5.4993934e-04 -3.0003837e-03  4.8594414e-03  3.2274965e-03\n",
      " -1.6922361e-03 -3.7758402e-03 -1.1119575e-03 -3.8174191e-03\n",
      "  2.2815077e-03  5.0037587e-04 -3.3167230e-03  4.2680725e-03\n",
      "  1.9187307e-03  1.3787905e-03  5.0284056e-04 -4.0639940e-04\n",
      "  3.3014012e-03 -3.5107292e-03  4.6970886e-03 -8.4395608e-04\n",
      "  4.0782215e-03 -3.7116152e-03  8.6973165e-04  3.0025635e-03\n",
      " -2.6477210e-03 -3.4425249e-03  1.0804584e-03  1.2167221e-03\n",
      "  1.4628513e-03  1.6989781e-03 -4.7057746e-03  2.3819441e-03\n",
      " -1.5594144e-03 -4.4878027e-03  3.3105765e-03  3.5503737e-03\n",
      " -2.6120299e-03  2.4711362e-03 -4.6138274e-03 -2.1363378e-03\n",
      " -4.8084135e-04 -2.0953284e-04 -3.0044501e-03  2.7229572e-03\n",
      " -2.2511496e-03 -3.9998190e-03  3.3541096e-03  1.9647247e-04\n",
      "  7.7112456e-04  3.7985996e-03 -1.1285581e-03  4.1207677e-04\n",
      "  2.7263565e-03 -1.9082139e-03  3.4932406e-03 -3.9274716e-03\n",
      " -2.1476597e-03 -2.0676388e-03 -5.9534871e-04  2.9809442e-03\n",
      "  2.4685676e-03 -2.7124499e-04 -4.5080315e-03  3.8308217e-03]\n"
     ]
    }
   ],
   "source": [
    "# Finding Word Vectors\n",
    "vector = model.wv['war']\n",
    "print(vector)\n"
   ]
  },
  {
   "cell_type": "code",
   "execution_count": 28,
   "metadata": {},
   "outputs": [
    {
     "name": "stdout",
     "output_type": "stream",
     "text": [
      "[('onwards', 0.36301958560943604), ('unless', 0.26954078674316406), ('took', 0.23094290494918823), ('lucky', 0.18401265144348145), ('power', 0.17275068163871765), ('life', 0.16978514194488525), ('.', 0.14903007447719574), ('conquered', 0.142210453748703), ('world', 0.13074436783790588), ('development', 0.12728531658649445)]\n"
     ]
    }
   ],
   "source": [
    "# Most similar words\n",
    "similar = model.wv.most_similar('war')\n",
    "print(similar)"
   ]
  },
  {
   "cell_type": "code",
   "execution_count": null,
   "metadata": {},
   "outputs": [],
   "source": []
  },
  {
   "cell_type": "code",
   "execution_count": null,
   "metadata": {},
   "outputs": [],
   "source": []
  },
  {
   "cell_type": "code",
   "execution_count": null,
   "metadata": {},
   "outputs": [],
   "source": []
  },
  {
   "cell_type": "code",
   "execution_count": null,
   "metadata": {},
   "outputs": [],
   "source": []
  },
  {
   "cell_type": "code",
   "execution_count": null,
   "metadata": {},
   "outputs": [],
   "source": []
  }
 ],
 "metadata": {
  "kernelspec": {
   "display_name": "Python 3",
   "language": "python",
   "name": "python3"
  },
  "language_info": {
   "codemirror_mode": {
    "name": "ipython",
    "version": 3
   },
   "file_extension": ".py",
   "mimetype": "text/x-python",
   "name": "python",
   "nbconvert_exporter": "python",
   "pygments_lexer": "ipython3",
   "version": "3.7.9"
  }
 },
 "nbformat": 4,
 "nbformat_minor": 4
}
